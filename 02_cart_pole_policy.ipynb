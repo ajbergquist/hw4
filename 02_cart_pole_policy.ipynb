{
 "cells": [
  {
   "cell_type": "markdown",
   "metadata": {},
   "source": [
    "# Mountain Car: Explicit Policy #"
   ]
  },
  {
   "cell_type": "markdown",
   "metadata": {},
   "source": [
    "## Imports ##"
   ]
  },
  {
   "cell_type": "code",
   "execution_count": 1,
   "metadata": {},
   "outputs": [],
   "source": [
    "import gym\n",
    "import numpy as np"
   ]
  },
  {
   "cell_type": "markdown",
   "metadata": {},
   "source": [
    "## Environment ##"
   ]
  },
  {
   "cell_type": "code",
   "execution_count": 2,
   "metadata": {},
   "outputs": [],
   "source": [
    "# Create the Cart-Pole game environment\n",
    "env = gym.make('CartPole-v1')"
   ]
  },
  {
   "cell_type": "markdown",
   "metadata": {},
   "source": [
    "## Policy ##\n",
    "The main challenge in keeping episodes from terminating is keeping angle of the pole as close to zero as possible. To achieve this, we want to push the cart in the same direction that the pole is leaning, to force the bottom of the pole back under the top of the pole towards verticality. The exception to this rule is when the pole is already moving towards the vertical position, in which case we should just push on the cart against its direction of movement. This keeps from accelerating the cart excessively, which would make future corrections of the pole angle more difficult."
   ]
  },
  {
   "cell_type": "code",
   "execution_count": 3,
   "metadata": {},
   "outputs": [],
   "source": [
    "# Actions\n",
    "PUSH_LEFT = 0\n",
    "PUSH_RIGHT = 1\n",
    "\n",
    "# Explicit policy\n",
    "def policy(state):\n",
    "    cart_position, cart_velocity, pole_angle, pole_velocity = state\n",
    "    \n",
    "    # Choose next action\n",
    "    if pole_angle < 0.0:\n",
    "        if cart_velocity < 0.0 and pole_velocity > 0.0:\n",
    "            action = PUSH_RIGHT\n",
    "        else:\n",
    "            action = PUSH_LEFT\n",
    "    else:\n",
    "        if cart_velocity > 0.0 and pole_velocity < 0.0:\n",
    "            action = PUSH_LEFT\n",
    "        else:\n",
    "            action = PUSH_RIGHT\n",
    "    \n",
    "    return action"
   ]
  },
  {
   "cell_type": "markdown",
   "metadata": {},
   "source": [
    "## Testing ##\n",
    "Run a number of episodes to demonstrate the effectiveness of the explicit policy. Print out the result of each episode and the average reward for all episodes."
   ]
  },
  {
   "cell_type": "code",
   "execution_count": 4,
   "metadata": {},
   "outputs": [
    {
     "name": "stdout",
     "output_type": "stream",
     "text": [
      "Episode 1 : Terminated in 200 steps.\n",
      "Episode 2 : Terminated in 170 steps.\n",
      "Episode 3 : Terminated in 149 steps.\n",
      "Episode 4 : Terminated in 200 steps.\n",
      "Episode 5 : Terminated in 200 steps.\n",
      "Episode 6 : Terminated in 200 steps.\n",
      "Episode 7 : Terminated in 146 steps.\n",
      "Episode 8 : Terminated in 200 steps.\n",
      "Episode 9 : Terminated in 200 steps.\n",
      "Episode 10 : Terminated in 200 steps.\n",
      "Episode 11 : Terminated in 200 steps.\n",
      "Episode 12 : Terminated in 200 steps.\n",
      "Episode 13 : Terminated in 138 steps.\n",
      "Episode 14 : Terminated in 200 steps.\n",
      "Episode 15 : Terminated in 151 steps.\n",
      "Episode 16 : Terminated in 200 steps.\n",
      "Episode 17 : Terminated in 131 steps.\n",
      "Episode 18 : Terminated in 177 steps.\n",
      "Episode 19 : Terminated in 200 steps.\n",
      "Episode 20 : Terminated in 200 steps.\n",
      "Episode 21 : Terminated in 200 steps.\n",
      "Episode 22 : Terminated in 200 steps.\n",
      "Episode 23 : Terminated in 167 steps.\n",
      "Episode 24 : Terminated in 178 steps.\n",
      "Episode 25 : Terminated in 200 steps.\n",
      "Episode 26 : Terminated in 182 steps.\n",
      "Episode 27 : Terminated in 200 steps.\n",
      "Episode 28 : Terminated in 197 steps.\n",
      "Episode 29 : Terminated in 164 steps.\n",
      "Episode 30 : Terminated in 159 steps.\n",
      "Episode 31 : Terminated in 200 steps.\n",
      "Episode 32 : Terminated in 192 steps.\n",
      "Episode 33 : Terminated in 200 steps.\n",
      "Episode 34 : Terminated in 200 steps.\n",
      "Episode 35 : Terminated in 200 steps.\n",
      "Episode 36 : Terminated in 200 steps.\n",
      "Episode 37 : Terminated in 200 steps.\n",
      "Episode 38 : Terminated in 200 steps.\n",
      "Episode 39 : Terminated in 200 steps.\n",
      "Episode 40 : Terminated in 198 steps.\n",
      "Episode 41 : Terminated in 176 steps.\n",
      "Episode 42 : Terminated in 200 steps.\n",
      "Episode 43 : Terminated in 200 steps.\n",
      "Episode 44 : Terminated in 142 steps.\n",
      "Episode 45 : Terminated in 144 steps.\n",
      "Episode 46 : Terminated in 148 steps.\n",
      "Episode 47 : Terminated in 200 steps.\n",
      "Episode 48 : Terminated in 200 steps.\n",
      "Episode 49 : Terminated in 200 steps.\n",
      "Episode 50 : Terminated in 200 steps.\n",
      "Episode 51 : Terminated in 200 steps.\n",
      "Episode 52 : Terminated in 200 steps.\n",
      "Episode 53 : Terminated in 200 steps.\n",
      "Episode 54 : Terminated in 200 steps.\n",
      "Episode 55 : Terminated in 156 steps.\n",
      "Episode 56 : Terminated in 200 steps.\n",
      "Episode 57 : Terminated in 200 steps.\n",
      "Episode 58 : Terminated in 200 steps.\n",
      "Episode 59 : Terminated in 200 steps.\n",
      "Episode 60 : Terminated in 159 steps.\n",
      "Episode 61 : Terminated in 200 steps.\n",
      "Episode 62 : Terminated in 200 steps.\n",
      "Episode 63 : Terminated in 200 steps.\n",
      "Episode 64 : Terminated in 200 steps.\n",
      "Episode 65 : Terminated in 200 steps.\n",
      "Episode 66 : Terminated in 179 steps.\n",
      "Episode 67 : Terminated in 156 steps.\n",
      "Episode 68 : Terminated in 200 steps.\n",
      "Episode 69 : Terminated in 200 steps.\n",
      "Episode 70 : Terminated in 165 steps.\n",
      "Episode 71 : Terminated in 146 steps.\n",
      "Episode 72 : Terminated in 200 steps.\n",
      "Episode 73 : Terminated in 200 steps.\n",
      "Episode 74 : Terminated in 178 steps.\n",
      "Episode 75 : Terminated in 200 steps.\n",
      "Episode 76 : Terminated in 150 steps.\n",
      "Episode 77 : Terminated in 200 steps.\n",
      "Episode 78 : Terminated in 152 steps.\n",
      "Episode 79 : Terminated in 143 steps.\n",
      "Episode 80 : Terminated in 200 steps.\n",
      "Episode 81 : Terminated in 200 steps.\n",
      "Episode 82 : Terminated in 159 steps.\n",
      "Episode 83 : Terminated in 160 steps.\n",
      "Episode 84 : Terminated in 200 steps.\n",
      "Episode 85 : Terminated in 200 steps.\n",
      "Episode 86 : Terminated in 200 steps.\n",
      "Episode 87 : Terminated in 200 steps.\n",
      "Episode 88 : Terminated in 200 steps.\n",
      "Episode 89 : Terminated in 200 steps.\n",
      "Episode 90 : Terminated in 200 steps.\n",
      "Episode 91 : Terminated in 200 steps.\n",
      "Episode 92 : Terminated in 191 steps.\n",
      "Episode 93 : Terminated in 141 steps.\n",
      "Episode 94 : Terminated in 200 steps.\n",
      "Episode 95 : Terminated in 196 steps.\n",
      "Episode 96 : Terminated in 200 steps.\n",
      "Episode 97 : Terminated in 177 steps.\n",
      "Episode 98 : Terminated in 200 steps.\n",
      "Episode 99 : Terminated in 200 steps.\n",
      "Episode 100 : Terminated in 200 steps.\n",
      "Average reward = 187.17\n"
     ]
    }
   ],
   "source": [
    "NUM_EPISODES = 100\n",
    "MAX_STEPS = 200\n",
    "\n",
    "total_reward = 0\n",
    "\n",
    "for i in np.arange(NUM_EPISODES):\n",
    "    \n",
    "    state = env.reset()\n",
    "    episode_reward = 0\n",
    "    \n",
    "    for j in np.arange(MAX_STEPS):\n",
    "        # Determine the next action to take from the policy\n",
    "        action = policy(state)\n",
    "        \n",
    "        # Take next step\n",
    "        state, reward, done, _ = env.step(action)\n",
    "        episode_reward += reward\n",
    "        \n",
    "        if done:\n",
    "            break\n",
    "\n",
    "    print(\"Episode\", i+1, \": Terminated in\", j+1, \"steps.\")\n",
    "    \n",
    "    total_reward += episode_reward\n",
    "\n",
    "print(\"Average reward =\", total_reward / NUM_EPISODES)"
   ]
  }
 ],
 "metadata": {
  "kernelspec": {
   "display_name": "Python 3",
   "language": "python",
   "name": "python3"
  },
  "language_info": {
   "codemirror_mode": {
    "name": "ipython",
    "version": 3
   },
   "file_extension": ".py",
   "mimetype": "text/x-python",
   "name": "python",
   "nbconvert_exporter": "python",
   "pygments_lexer": "ipython3",
   "version": "3.7.0"
  }
 },
 "nbformat": 4,
 "nbformat_minor": 2
}
