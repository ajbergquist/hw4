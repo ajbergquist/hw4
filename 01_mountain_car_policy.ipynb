{
 "cells": [
  {
   "cell_type": "markdown",
   "metadata": {},
   "source": [
    "# Mountain Car: Explicit Policy #"
   ]
  },
  {
   "cell_type": "markdown",
   "metadata": {},
   "source": [
    "## Imports ##"
   ]
  },
  {
   "cell_type": "code",
   "execution_count": 1,
   "metadata": {},
   "outputs": [],
   "source": [
    "import gym\n",
    "import numpy as np"
   ]
  },
  {
   "cell_type": "markdown",
   "metadata": {},
   "source": [
    "## Environment ##"
   ]
  },
  {
   "cell_type": "code",
   "execution_count": null,
   "metadata": {},
   "outputs": [],
   "source": [
    "# Create the Cart-Pole game environment\n",
    "env = gym.make('MountainCar-v0')"
   ]
  },
  {
   "cell_type": "markdown",
   "metadata": {},
   "source": [
    "## Policy ##\n",
    "In order for the car to reach the top of the mountain, it must build up its energy. This can be achieved by always applying force in the direction of the car's movement. If the car is moving right, that is, the velocity is positive, we push the car to the right, and if the car is moving left, i.e. velocity is negative, we push the car to the left."
   ]
  },
  {
   "cell_type": "code",
   "execution_count": 40,
   "metadata": {},
   "outputs": [],
   "source": [
    "# Actions\n",
    "PUSH_LEFT = 0\n",
    "PUSH_RIGHT = 2\n",
    "NO_PUSH = 1\n",
    "\n",
    "# Explicit Policy: Always accelerate in the direction that the cart is moving.\n",
    "def policy(state):\n",
    "    _, velocity = state\n",
    "    \n",
    "    # Choose next action\n",
    "    if velocity >= 0.0:\n",
    "        action = PUSH_RIGHT\n",
    "    else:\n",
    "        action = PUSH_LEFT\n",
    "    \n",
    "    return action"
   ]
  },
  {
   "cell_type": "markdown",
   "metadata": {},
   "source": [
    "## Testing ##\n",
    "Run a number of episodes to demonstrate the effectiveness of the explicit policy. Print out the result of each episode."
   ]
  },
  {
   "cell_type": "code",
   "execution_count": 41,
   "metadata": {},
   "outputs": [
    {
     "name": "stdout",
     "output_type": "stream",
     "text": [
      "Episode 0 : Succeeded in 113 steps. Position = 0.5368577983788596\n",
      "Episode 1 : Succeeded in 120 steps. Position = 0.5160596822401516\n",
      "Episode 2 : Succeeded in 113 steps. Position = 0.5368577983788596\n",
      "Episode 3 : Succeeded in 120 steps. Position = 0.5008020508729808\n",
      "Episode 4 : Succeeded in 115 steps. Position = 0.5368577983788596\n",
      "Episode 5 : Succeeded in 121 steps. Position = 0.5053060975802396\n",
      "Episode 6 : Succeeded in 121 steps. Position = 0.5226358665010891\n",
      "Episode 7 : Succeeded in 112 steps. Position = 0.5368577983788596\n",
      "Episode 8 : Succeeded in 121 steps. Position = 0.5305009738823626\n",
      "Episode 9 : Succeeded in 116 steps. Position = 0.5368577983788596\n",
      "Episode 10 : Succeeded in 119 steps. Position = 0.5368577983788596\n",
      "Episode 11 : Succeeded in 120 steps. Position = 0.5127520017739965\n",
      "Episode 12 : Succeeded in 113 steps. Position = 0.5368577983788596\n",
      "Episode 13 : Succeeded in 112 steps. Position = 0.5368577983788596\n",
      "Episode 14 : Succeeded in 113 steps. Position = 0.5368577983788596\n",
      "Episode 15 : Succeeded in 121 steps. Position = 0.5081802899132071\n",
      "Episode 16 : Succeeded in 121 steps. Position = 0.509587556016615\n",
      "Episode 17 : Succeeded in 124 steps. Position = 0.5479077838694013\n",
      "Episode 18 : Succeeded in 112 steps. Position = 0.5368577983788596\n",
      "Episode 19 : Succeeded in 120 steps. Position = 0.5044612662591281\n"
     ]
    }
   ],
   "source": [
    "NUM_EPISODES = 20\n",
    "MAX_STEPS = 200\n",
    "\n",
    "for i in np.arange(NUM_EPISODES):\n",
    "    \n",
    "    state = env.reset()\n",
    "    \n",
    "    for j in np.arange(MAX_STEPS):\n",
    "        # Determine the next action to take from the policy\n",
    "        action = policy(state)\n",
    "        \n",
    "        # Take next step\n",
    "        state, reward, done, _ = env.step(action)\n",
    "        \n",
    "        if done:\n",
    "            pos = state[0]\n",
    "            if pos >= 0.5:\n",
    "                print(\"Episode\", i, \": Succeeded in\", j, \"steps. Position =\", pos)\n",
    "            else:\n",
    "                print(\"Episode\", i, \": Failed. Position =\", pos)\n",
    "            break\n"
   ]
  },
  {
   "cell_type": "code",
   "execution_count": null,
   "metadata": {},
   "outputs": [],
   "source": []
  }
 ],
 "metadata": {
  "kernelspec": {
   "display_name": "Python 3",
   "language": "python",
   "name": "python3"
  },
  "language_info": {
   "codemirror_mode": {
    "name": "ipython",
    "version": 3
   },
   "file_extension": ".py",
   "mimetype": "text/x-python",
   "name": "python",
   "nbconvert_exporter": "python",
   "pygments_lexer": "ipython3",
   "version": "3.7.0"
  }
 },
 "nbformat": 4,
 "nbformat_minor": 2
}
