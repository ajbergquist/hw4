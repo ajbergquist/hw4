{
 "cells": [
  {
   "cell_type": "markdown",
   "metadata": {},
   "source": [
    "# Mountain Car: Explicit Policy #"
   ]
  },
  {
   "cell_type": "markdown",
   "metadata": {},
   "source": [
    "## Imports ##"
   ]
  },
  {
   "cell_type": "code",
   "execution_count": 1,
   "metadata": {},
   "outputs": [],
   "source": [
    "import gym\n",
    "import numpy as np\n",
    "\n",
    "import time"
   ]
  },
  {
   "cell_type": "markdown",
   "metadata": {},
   "source": [
    "## Environment ##"
   ]
  },
  {
   "cell_type": "code",
   "execution_count": 36,
   "metadata": {},
   "outputs": [
    {
     "name": "stdout",
     "output_type": "stream",
     "text": [
      "\u001b[33mWARN: gym.spaces.Box autodetected dtype as <class 'numpy.float32'>. Please provide explicit dtype.\u001b[0m\n",
      "Trial 0 : Succeeded in 115 steps. Position = 0.5368577983788596\n",
      "Trial 1 : Succeeded in 121 steps. Position = 0.507990382057057\n",
      "Trial 2 : Succeeded in 115 steps. Position = 0.5368577983788596\n",
      "Trial 3 : Succeeded in 113 steps. Position = 0.5368577983788596\n",
      "Trial 4 : Succeeded in 124 steps. Position = 0.5373968637563786\n",
      "Trial 5 : Succeeded in 121 steps. Position = 0.5065846182823344\n",
      "Trial 6 : Succeeded in 123 steps. Position = 0.5391072251416629\n",
      "Trial 7 : Succeeded in 123 steps. Position = 0.541740177549008\n",
      "Trial 8 : Succeeded in 115 steps. Position = 0.5368577983788596\n",
      "Trial 9 : Succeeded in 117 steps. Position = 0.5368577983788596\n",
      "Trial 10 : Succeeded in 123 steps. Position = 0.5356485448880198\n",
      "Trial 11 : Succeeded in 123 steps. Position = 0.5368646274493081\n",
      "Trial 12 : Succeeded in 113 steps. Position = 0.5368577983788596\n",
      "Trial 13 : Succeeded in 120 steps. Position = 0.5090729892400396\n",
      "Trial 14 : Succeeded in 120 steps. Position = 0.5368577983788596\n",
      "Trial 15 : Succeeded in 120 steps. Position = 0.5200225596177118\n",
      "Trial 16 : Succeeded in 121 steps. Position = 0.5069827310506223\n",
      "Trial 17 : Succeeded in 113 steps. Position = 0.5368577983788596\n",
      "Trial 18 : Succeeded in 122 steps. Position = 0.5282651844606192\n",
      "Trial 19 : Succeeded in 121 steps. Position = 0.5075923549391145\n"
     ]
    }
   ],
   "source": [
    "# Create the Cart-Pole game environment\n",
    "env = gym.make('MountainCar-v0')\n",
    "\n",
    "NUM_EPISODES = 20\n",
    "MAX_STEPS = 200\n",
    "\n",
    "for i in np.arange(NUM_EPISODES):\n",
    "    \n",
    "    state = env.reset()\n",
    "    \n",
    "    for j in np.arange(MAX_STEPS):\n",
    "        pos,vel = state\n",
    "    \n",
    "        # Choose next action\n",
    "        # Explicit Policy: Always accelerate in the direction that the cart is moving.\n",
    "        if vel >= 0.0:\n",
    "            action = 2\n",
    "        else:\n",
    "            action = 0\n",
    "        \n",
    "        # Take next step\n",
    "        state, reward, done, _ = env.step(action)\n",
    "        \n",
    "        if done:\n",
    "            pos = state[0]\n",
    "            if pos >= 0.5:\n",
    "                print(\"Trial\", i, \": Succeeded in\", j, \"steps. Position =\", pos)\n",
    "            else:\n",
    "                print(\"Trial\", i, \": Failed. Position =\", pos)\n",
    "            break\n"
   ]
  }
 ],
 "metadata": {
  "kernelspec": {
   "display_name": "Python 3",
   "language": "python",
   "name": "python3"
  },
  "language_info": {
   "codemirror_mode": {
    "name": "ipython",
    "version": 3
   },
   "file_extension": ".py",
   "mimetype": "text/x-python",
   "name": "python",
   "nbconvert_exporter": "python",
   "pygments_lexer": "ipython3",
   "version": "3.7.0"
  }
 },
 "nbformat": 4,
 "nbformat_minor": 2
}
